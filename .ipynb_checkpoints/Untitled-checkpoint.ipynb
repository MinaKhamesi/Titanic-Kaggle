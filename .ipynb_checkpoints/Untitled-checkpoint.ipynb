{
 "cells": [
  {
   "cell_type": "code",
   "execution_count": 64,
   "metadata": {},
   "outputs": [],
   "source": [
    "import pandas as pd\n",
    "import numpy as np\n",
    "import matplotlib.pyplot as plt\n",
    "import seaborn as sns"
   ]
  },
  {
   "cell_type": "markdown",
   "metadata": {},
   "source": [
    "<h1>Steps</h1>"
   ]
  },
  {
   "cell_type": "markdown",
   "metadata": {},
   "source": [
    "<ol>\n",
    "    <li>exploring dataset</li>    \n",
    "    <li>some inferential and explorational analysis. some hypothesis testing</li>    \n",
    "    <li>Addressing outliers</li>   \n",
    "    <li>some extra exploration and hypothesis testing</li>\n",
    "    <li>feature engineering</li>\n",
    "    <li>models training</li>\n",
    "    <li>select models for next level model</li>\n",
    "    <li>feature selection</li>\n",
    "    <li>find best model and submit</li>\n",
    "</ol>"
   ]
  },
  {
   "cell_type": "code",
   "execution_count": 65,
   "metadata": {},
   "outputs": [],
   "source": [
    "dataset = pd.read_csv('titanic/train.csv')"
   ]
  },
  {
   "cell_type": "code",
   "execution_count": 66,
   "metadata": {},
   "outputs": [
    {
     "data": {
      "text/html": [
       "<div>\n",
       "<style scoped>\n",
       "    .dataframe tbody tr th:only-of-type {\n",
       "        vertical-align: middle;\n",
       "    }\n",
       "\n",
       "    .dataframe tbody tr th {\n",
       "        vertical-align: top;\n",
       "    }\n",
       "\n",
       "    .dataframe thead th {\n",
       "        text-align: right;\n",
       "    }\n",
       "</style>\n",
       "<table border=\"1\" class=\"dataframe\">\n",
       "  <thead>\n",
       "    <tr style=\"text-align: right;\">\n",
       "      <th></th>\n",
       "      <th>PassengerId</th>\n",
       "      <th>Survived</th>\n",
       "      <th>Pclass</th>\n",
       "      <th>Name</th>\n",
       "      <th>Sex</th>\n",
       "      <th>Age</th>\n",
       "      <th>SibSp</th>\n",
       "      <th>Parch</th>\n",
       "      <th>Ticket</th>\n",
       "      <th>Fare</th>\n",
       "      <th>Cabin</th>\n",
       "      <th>Embarked</th>\n",
       "    </tr>\n",
       "  </thead>\n",
       "  <tbody>\n",
       "    <tr>\n",
       "      <th>0</th>\n",
       "      <td>1</td>\n",
       "      <td>0</td>\n",
       "      <td>3</td>\n",
       "      <td>Braund, Mr. Owen Harris</td>\n",
       "      <td>male</td>\n",
       "      <td>22.0</td>\n",
       "      <td>1</td>\n",
       "      <td>0</td>\n",
       "      <td>A/5 21171</td>\n",
       "      <td>7.2500</td>\n",
       "      <td>NaN</td>\n",
       "      <td>S</td>\n",
       "    </tr>\n",
       "    <tr>\n",
       "      <th>1</th>\n",
       "      <td>2</td>\n",
       "      <td>1</td>\n",
       "      <td>1</td>\n",
       "      <td>Cumings, Mrs. John Bradley (Florence Briggs Th...</td>\n",
       "      <td>female</td>\n",
       "      <td>38.0</td>\n",
       "      <td>1</td>\n",
       "      <td>0</td>\n",
       "      <td>PC 17599</td>\n",
       "      <td>71.2833</td>\n",
       "      <td>C85</td>\n",
       "      <td>C</td>\n",
       "    </tr>\n",
       "    <tr>\n",
       "      <th>2</th>\n",
       "      <td>3</td>\n",
       "      <td>1</td>\n",
       "      <td>3</td>\n",
       "      <td>Heikkinen, Miss. Laina</td>\n",
       "      <td>female</td>\n",
       "      <td>26.0</td>\n",
       "      <td>0</td>\n",
       "      <td>0</td>\n",
       "      <td>STON/O2. 3101282</td>\n",
       "      <td>7.9250</td>\n",
       "      <td>NaN</td>\n",
       "      <td>S</td>\n",
       "    </tr>\n",
       "    <tr>\n",
       "      <th>3</th>\n",
       "      <td>4</td>\n",
       "      <td>1</td>\n",
       "      <td>1</td>\n",
       "      <td>Futrelle, Mrs. Jacques Heath (Lily May Peel)</td>\n",
       "      <td>female</td>\n",
       "      <td>35.0</td>\n",
       "      <td>1</td>\n",
       "      <td>0</td>\n",
       "      <td>113803</td>\n",
       "      <td>53.1000</td>\n",
       "      <td>C123</td>\n",
       "      <td>S</td>\n",
       "    </tr>\n",
       "    <tr>\n",
       "      <th>4</th>\n",
       "      <td>5</td>\n",
       "      <td>0</td>\n",
       "      <td>3</td>\n",
       "      <td>Allen, Mr. William Henry</td>\n",
       "      <td>male</td>\n",
       "      <td>35.0</td>\n",
       "      <td>0</td>\n",
       "      <td>0</td>\n",
       "      <td>373450</td>\n",
       "      <td>8.0500</td>\n",
       "      <td>NaN</td>\n",
       "      <td>S</td>\n",
       "    </tr>\n",
       "  </tbody>\n",
       "</table>\n",
       "</div>"
      ],
      "text/plain": [
       "   PassengerId  Survived  Pclass  \\\n",
       "0            1         0       3   \n",
       "1            2         1       1   \n",
       "2            3         1       3   \n",
       "3            4         1       1   \n",
       "4            5         0       3   \n",
       "\n",
       "                                                Name     Sex   Age  SibSp  \\\n",
       "0                            Braund, Mr. Owen Harris    male  22.0      1   \n",
       "1  Cumings, Mrs. John Bradley (Florence Briggs Th...  female  38.0      1   \n",
       "2                             Heikkinen, Miss. Laina  female  26.0      0   \n",
       "3       Futrelle, Mrs. Jacques Heath (Lily May Peel)  female  35.0      1   \n",
       "4                           Allen, Mr. William Henry    male  35.0      0   \n",
       "\n",
       "   Parch            Ticket     Fare Cabin Embarked  \n",
       "0      0         A/5 21171   7.2500   NaN        S  \n",
       "1      0          PC 17599  71.2833   C85        C  \n",
       "2      0  STON/O2. 3101282   7.9250   NaN        S  \n",
       "3      0            113803  53.1000  C123        S  \n",
       "4      0            373450   8.0500   NaN        S  "
      ]
     },
     "execution_count": 66,
     "metadata": {},
     "output_type": "execute_result"
    }
   ],
   "source": [
    "dataset.head()"
   ]
  },
  {
   "cell_type": "code",
   "execution_count": 67,
   "metadata": {},
   "outputs": [
    {
     "data": {
      "text/html": [
       "<div>\n",
       "<style scoped>\n",
       "    .dataframe tbody tr th:only-of-type {\n",
       "        vertical-align: middle;\n",
       "    }\n",
       "\n",
       "    .dataframe tbody tr th {\n",
       "        vertical-align: top;\n",
       "    }\n",
       "\n",
       "    .dataframe thead th {\n",
       "        text-align: right;\n",
       "    }\n",
       "</style>\n",
       "<table border=\"1\" class=\"dataframe\">\n",
       "  <thead>\n",
       "    <tr style=\"text-align: right;\">\n",
       "      <th></th>\n",
       "      <th>PassengerId</th>\n",
       "      <th>Survived</th>\n",
       "      <th>Pclass</th>\n",
       "      <th>Age</th>\n",
       "      <th>SibSp</th>\n",
       "      <th>Parch</th>\n",
       "      <th>Fare</th>\n",
       "    </tr>\n",
       "  </thead>\n",
       "  <tbody>\n",
       "    <tr>\n",
       "      <th>count</th>\n",
       "      <td>891.000000</td>\n",
       "      <td>891.000000</td>\n",
       "      <td>891.000000</td>\n",
       "      <td>714.000000</td>\n",
       "      <td>891.000000</td>\n",
       "      <td>891.000000</td>\n",
       "      <td>891.000000</td>\n",
       "    </tr>\n",
       "    <tr>\n",
       "      <th>mean</th>\n",
       "      <td>446.000000</td>\n",
       "      <td>0.383838</td>\n",
       "      <td>2.308642</td>\n",
       "      <td>29.699118</td>\n",
       "      <td>0.523008</td>\n",
       "      <td>0.381594</td>\n",
       "      <td>32.204208</td>\n",
       "    </tr>\n",
       "    <tr>\n",
       "      <th>std</th>\n",
       "      <td>257.353842</td>\n",
       "      <td>0.486592</td>\n",
       "      <td>0.836071</td>\n",
       "      <td>14.526497</td>\n",
       "      <td>1.102743</td>\n",
       "      <td>0.806057</td>\n",
       "      <td>49.693429</td>\n",
       "    </tr>\n",
       "    <tr>\n",
       "      <th>min</th>\n",
       "      <td>1.000000</td>\n",
       "      <td>0.000000</td>\n",
       "      <td>1.000000</td>\n",
       "      <td>0.420000</td>\n",
       "      <td>0.000000</td>\n",
       "      <td>0.000000</td>\n",
       "      <td>0.000000</td>\n",
       "    </tr>\n",
       "    <tr>\n",
       "      <th>25%</th>\n",
       "      <td>223.500000</td>\n",
       "      <td>0.000000</td>\n",
       "      <td>2.000000</td>\n",
       "      <td>20.125000</td>\n",
       "      <td>0.000000</td>\n",
       "      <td>0.000000</td>\n",
       "      <td>7.910400</td>\n",
       "    </tr>\n",
       "    <tr>\n",
       "      <th>50%</th>\n",
       "      <td>446.000000</td>\n",
       "      <td>0.000000</td>\n",
       "      <td>3.000000</td>\n",
       "      <td>28.000000</td>\n",
       "      <td>0.000000</td>\n",
       "      <td>0.000000</td>\n",
       "      <td>14.454200</td>\n",
       "    </tr>\n",
       "    <tr>\n",
       "      <th>75%</th>\n",
       "      <td>668.500000</td>\n",
       "      <td>1.000000</td>\n",
       "      <td>3.000000</td>\n",
       "      <td>38.000000</td>\n",
       "      <td>1.000000</td>\n",
       "      <td>0.000000</td>\n",
       "      <td>31.000000</td>\n",
       "    </tr>\n",
       "    <tr>\n",
       "      <th>max</th>\n",
       "      <td>891.000000</td>\n",
       "      <td>1.000000</td>\n",
       "      <td>3.000000</td>\n",
       "      <td>80.000000</td>\n",
       "      <td>8.000000</td>\n",
       "      <td>6.000000</td>\n",
       "      <td>512.329200</td>\n",
       "    </tr>\n",
       "  </tbody>\n",
       "</table>\n",
       "</div>"
      ],
      "text/plain": [
       "       PassengerId    Survived      Pclass         Age       SibSp  \\\n",
       "count   891.000000  891.000000  891.000000  714.000000  891.000000   \n",
       "mean    446.000000    0.383838    2.308642   29.699118    0.523008   \n",
       "std     257.353842    0.486592    0.836071   14.526497    1.102743   \n",
       "min       1.000000    0.000000    1.000000    0.420000    0.000000   \n",
       "25%     223.500000    0.000000    2.000000   20.125000    0.000000   \n",
       "50%     446.000000    0.000000    3.000000   28.000000    0.000000   \n",
       "75%     668.500000    1.000000    3.000000   38.000000    1.000000   \n",
       "max     891.000000    1.000000    3.000000   80.000000    8.000000   \n",
       "\n",
       "            Parch        Fare  \n",
       "count  891.000000  891.000000  \n",
       "mean     0.381594   32.204208  \n",
       "std      0.806057   49.693429  \n",
       "min      0.000000    0.000000  \n",
       "25%      0.000000    7.910400  \n",
       "50%      0.000000   14.454200  \n",
       "75%      0.000000   31.000000  \n",
       "max      6.000000  512.329200  "
      ]
     },
     "execution_count": 67,
     "metadata": {},
     "output_type": "execute_result"
    }
   ],
   "source": [
    "dataset.describe()"
   ]
  },
  {
   "cell_type": "code",
   "execution_count": 68,
   "metadata": {},
   "outputs": [
    {
     "name": "stdout",
     "output_type": "stream",
     "text": [
      "<class 'pandas.core.frame.DataFrame'>\n",
      "RangeIndex: 891 entries, 0 to 890\n",
      "Data columns (total 12 columns):\n",
      " #   Column       Non-Null Count  Dtype  \n",
      "---  ------       --------------  -----  \n",
      " 0   PassengerId  891 non-null    int64  \n",
      " 1   Survived     891 non-null    int64  \n",
      " 2   Pclass       891 non-null    int64  \n",
      " 3   Name         891 non-null    object \n",
      " 4   Sex          891 non-null    object \n",
      " 5   Age          714 non-null    float64\n",
      " 6   SibSp        891 non-null    int64  \n",
      " 7   Parch        891 non-null    int64  \n",
      " 8   Ticket       891 non-null    object \n",
      " 9   Fare         891 non-null    float64\n",
      " 10  Cabin        204 non-null    object \n",
      " 11  Embarked     889 non-null    object \n",
      "dtypes: float64(2), int64(5), object(5)\n",
      "memory usage: 83.7+ KB\n"
     ]
    }
   ],
   "source": [
    "dataset.info()"
   ]
  },
  {
   "cell_type": "markdown",
   "metadata": {},
   "source": [
    "<p>two missing value in Embarked, some missing value in Age and a lot of missing values in Cabin.\n",
    "My Decision: I will remove the two records that have missing values in Embarked. I will try to interpolate the age missing values by finding its correlated features, and I will probably dismiss the Cabin feature altogether.</p>"
   ]
  },
  {
   "cell_type": "markdown",
   "metadata": {},
   "source": [
    "<h6>First Step:Age</h6>\n",
    "    <p>I think age could be related to class.I think people in higher class usually are older. Also in each class the mean of the age of female passengers probably is less that the mean of the age of male passengers.</p>"
   ]
  },
  {
   "cell_type": "code",
   "execution_count": 69,
   "metadata": {},
   "outputs": [
    {
     "data": {
      "image/png": "[encoded data removed]",
      "text/plain": [
       "<Figure size 432x288 with 1 Axes>"
      ]
     },
     "metadata": {
      "needs_background": "light"
     },
     "output_type": "display_data"
    }
   ],
   "source": [
    "\n",
    "ax = sns.boxplot(x=\"Pclass\", y=\"Age\", hue=\"Sex\",\n",
    "                 data=dataset)"
   ]
  },
  {
   "cell_type": "markdown",
   "metadata": {},
   "source": [
    "<br/>\n",
    "<p>So it seems to me that people in class 1 are older that other groups. There is a little difference in the Age of class 2 and 3 but that does not seem significant. Also the difference in the Age of male and female passengers seem to be significant in class 1 and class 3 subcategories but in class 2 this difference seems to be unsignificant</p>\n",
    "<br/>\n",
    "<p>So to make sure my hypothesis are statistically valid, I will test them. So I will perfome an ANOVA test on these six groups with the null hypothesis being that all these groups have the same age mean.</p>"
   ]
  },
  {
   "cell_type": "code",
   "execution_count": 70,
   "metadata": {},
   "outputs": [],
   "source": [
    "class1Female = np.array(dataset[(dataset.Pclass==1) & (dataset.Sex=='female')]['Age'].dropna())\n",
    "class1Male = np.array(dataset[(dataset.Pclass==1) & (dataset.Sex=='male')]['Age'].dropna())\n",
    "class2Female = np.array(dataset[(dataset.Pclass==2) & (dataset.Sex=='male')]['Age'].dropna())\n",
    "class2Male = np.array(dataset[(dataset.Pclass==2) & (dataset.Sex=='male')]['Age'].dropna())\n",
    "class3Female = np.array(dataset[(dataset.Pclass==3) & (dataset.Sex=='female')]['Age'].dropna())\n",
    "class3Male = np.array(dataset[(dataset.Pclass==3) & (dataset.Sex=='male')]['Age'].dropna())\n"
   ]
  },
  {
   "cell_type": "markdown",
   "metadata": {},
   "source": [
    "<br/>\n",
    "<p>For ANOVA test, there are some assuptions that must be met. The samples should be independent.\n",
    "\n",
    "Each sample is from a normally distributed population. And they should have the same standard deviation. I do'nt see any reason not to believe that the first two assumptions are not met. But for the third one, I wanna quickly check the group's standard deviation.\n",
    "If they all have standard deviations within the range of 10% from each other, I'd say they have sufficienty close standard deviations.</p>\n",
    "<br/>"
   ]
  },
  {
   "cell_type": "code",
   "execution_count": 71,
   "metadata": {},
   "outputs": [
    {
     "name": "stdout",
     "output_type": "stream",
     "text": [
      "[13.53174404 15.06443566 14.71898748 14.71898748 12.66740839 12.1354594 ]\n",
      "[14.884918448948046, 12.178569640048401]\n"
     ]
    }
   ],
   "source": [
    "sd1 = np.std(class1Female)\n",
    "sd2 = np.std(class1Male)\n",
    "sd3 = np.std(class2Female)\n",
    "sd4 = np.std(class2Male)\n",
    "sd5 = np.std(class3Female)\n",
    "sd6 = np.std(class3Male)\n",
    "print(np.array([sd1,sd2,sd3,sd4,sd5,sd6]))\n",
    "\n",
    "minSd = sd1+0.1*sd1\n",
    "maxSd =sd1 - 0.1*sd1\n",
    "print([minSd, maxSd])\n"
   ]
  },
  {
   "cell_type": "markdown",
   "metadata": {},
   "source": [
    "<br/>\n",
    "<p>Only one of the groups is slightly more deviated than other groups. So I am gonna go with the ANOVA test anyway.</p>\n",
    "<br/>"
   ]
  },
  {
   "cell_type": "code",
   "execution_count": 94,
   "metadata": {},
   "outputs": [
    {
     "data": {
      "text/plain": [
       "4.813174339358647e-25"
      ]
     },
     "execution_count": 94,
     "metadata": {},
     "output_type": "execute_result"
    }
   ],
   "source": [
    "from scipy.stats import f_oneway\n",
    "\n",
    "pval = f_oneway(class1Female,class1Male, class2Female,class2Male, class3Female,class3Male).pvalue\n",
    "\n",
    "pval\n"
   ]
  },
  {
   "cell_type": "markdown",
   "metadata": {},
   "source": [
    "<br/>\n",
    "<p>As we can see the Pvalue of the ANOVA test is way below 0.05. So our null hypothesis is rejected and we can be sure that the age is actually different between atleast two groups.\n",
    "Now we wanna see what groups are actually statistically different. We will get our answer with Tukey's Range Test</p>\n",
    "<br/>"
   ]
  },
  {
   "cell_type": "code",
   "execution_count": 95,
   "metadata": {},
   "outputs": [
    {
     "name": "stdout",
     "output_type": "stream",
     "text": [
      "        Multiple Comparison of Means - Tukey HSD, FWER=0.05         \n",
      "====================================================================\n",
      "    group1        group2    meandiff p-adj   lower    upper   reject\n",
      "--------------------------------------------------------------------\n",
      "class1 Female   class1 Male   6.6696 0.0114   0.9619  12.3773   True\n",
      "class1 Female class2 Female  -3.8711 0.3866   -9.605   1.8629  False\n",
      "class1 Female   class2 Male  -3.8711 0.3866   -9.605   1.8629  False\n",
      "class1 Female class3 Female -12.8618  0.001 -18.5567  -7.1669   True\n",
      "class1 Female   class3 Male  -8.1042  0.001 -12.9656  -3.2427   True\n",
      "  class1 Male class2 Female -10.5407  0.001 -16.0249  -5.0565   True\n",
      "  class1 Male   class2 Male -10.5407  0.001 -16.0249  -5.0565   True\n",
      "  class1 Male class3 Female -19.5314  0.001 -24.9747 -14.0881   True\n",
      "  class1 Male   class3 Male -14.7738  0.001 -19.3379 -10.2097   True\n",
      "class2 Female   class2 Male      0.0    0.9  -5.5115   5.5115  False\n",
      "class2 Female class3 Female  -8.9907  0.001 -14.4616  -3.5198   True\n",
      "class2 Female   class3 Male  -4.2331  0.091  -8.8301   0.3638  False\n",
      "  class2 Male class3 Female  -8.9907  0.001 -14.4616  -3.5198   True\n",
      "  class2 Male   class3 Male  -4.2331  0.091  -8.8301   0.3638  False\n",
      "class3 Female   class3 Male   4.7576 0.0343   0.2095   9.3057   True\n",
      "--------------------------------------------------------------------\n"
     ]
    }
   ],
   "source": [
    "from statsmodels.stats.multicomp import pairwise_tukeyhsd\n",
    "\n",
    "allGroups = np.concatenate([class1Female, class1Male, class2Female, class2Male, class3Female, class3Male])\n",
    "labels = ['class1 Female' for i in range(len(class1Female))]+ ['class1 Male' for i in range(len(class1Male))] + ['class2 Female' for i in range(len(class2Female))] + ['class2 Male'for i in range(len(class2Male)) ] + ['class3 Female' for i in range(len(class3Female))] + ['class3 Male'for i in range(len(class3Male))]\n",
    "\n",
    "tukey_results = pairwise_tukeyhsd(allGroups,labels,0.05)\n",
    "print(tukey_results)"
   ]
  },
  {
   "cell_type": "markdown",
   "metadata": {},
   "source": [
    "<br/>\n",
    "<p> So as we can see the age difference in class1 for male and female is significant. Also in class 3 the difference between men and women's is significant. But in class 2 the difference between men and women is insignificant. \n",
    "    \n",
    "Also it seems that female in class 1 and male in class 3 are more similar to class 2 passengers, But since those two groups are significantly different from each other, I decided to have 4 groups:\n",
    "    <ul>\n",
    "        <li>class 1 male</li>\n",
    "        <li>class 1 female and class 2 passengers</li>\n",
    "        <li>class 3 male</li>\n",
    "        <li>class 3 female</li>\n",
    "    </ul>\n",
    "</p>\n",
    "<br/>"
   ]
  },
  {
   "cell_type": "markdown",
   "metadata": {},
   "source": [
    "<p>Now back to our age column. We have around 180 missing values. we look at their class and  their sex information and then we will fill the missing value with the mean of their group</p>\n",
    "<br/>"
   ]
  },
  {
   "cell_type": "code",
   "execution_count": 99,
   "metadata": {},
   "outputs": [
    {
     "name": "stdout",
     "output_type": "stream",
     "text": [
      "[41.28138613861386, 31.43732558139535, 26.507588932806325, 21.75]\n"
     ]
    }
   ],
   "source": [
    "group1Mean = dataset[(dataset.Pclass==1) & (dataset.Sex=='male')].Age.mean()\n",
    "group2Mean = dataset[((dataset.Pclass==1) & (dataset.Sex=='female')) | (dataset.Pclass==2)].Age.mean()\n",
    "group3Mean = dataset[(dataset.Pclass==3) & (dataset.Sex=='male')].Age.mean()\n",
    "group4Mean = dataset[(dataset.Pclass==3) & (dataset.Sex=='female')].Age.mean()\n",
    "\n",
    "print([group1Mean, group2Mean, group3Mean, group4Mean])"
   ]
  },
  {
   "cell_type": "code",
   "execution_count": 100,
   "metadata": {},
   "outputs": [],
   "source": [
    "dataset.loc[(dataset.Pclass==1) & (dataset.Sex=='male') & dataset['Age'].isnull(), 'Age'] = group1Mean\n",
    "dataset.loc[((dataset.Pclass==1) & (dataset.Sex=='female')) | (dataset.Pclass==2) & dataset['Age'].isnull(), 'Age'] = group2Mean\n",
    "dataset.loc[(dataset.Pclass==3) & (dataset.Sex=='male') & dataset['Age'].isnull(), 'Age'] = group3Mean\n",
    "dataset.loc[(dataset.Pclass==3) & (dataset.Sex=='female') & dataset['Age'].isnull(), 'Age'] = group4Mean"
   ]
  },
  {
   "cell_type": "code",
   "execution_count": 101,
   "metadata": {},
   "outputs": [
    {
     "data": {
      "text/plain": [
       "0"
      ]
     },
     "execution_count": 101,
     "metadata": {},
     "output_type": "execute_result"
    }
   ],
   "source": [
    "dataset.Age.isnull().sum()"
   ]
  },
  {
   "cell_type": "markdown",
   "metadata": {},
   "source": [
    "<br/>\n",
    "<p>Ok, Now we can feel good about our Age feature. There is no missing value here.</p>\n",
    "<br/>\n",
    "<p>Now I wanna examin other features before removing something from the dataset, to have a better picture of our problem.\n",
    "\n",
    "I am guissing that class and age difinitly has correlation with survival. But let's see all the features again</p>\n",
    "<br/>"
   ]
  },
  {
   "cell_type": "code",
   "execution_count": 105,
   "metadata": {},
   "outputs": [
    {
     "data": {
      "text/plain": [
       "Index(['PassengerId', 'Survived', 'Pclass', 'Name', 'Sex', 'Age', 'SibSp',\n",
       "       'Parch', 'Ticket', 'Fare', 'Cabin', 'Embarked'],\n",
       "      dtype='object')"
      ]
     },
     "execution_count": 105,
     "metadata": {},
     "output_type": "execute_result"
    }
   ],
   "source": [
    "dataset.columns"
   ]
  },
  {
   "cell_type": "markdown",
   "metadata": {},
   "source": [
    "<br/>\n",
    "<p>I think Pclass, sex and age should be related to survival. For 'SibSp', 'Parch', 'Ticket', 'Fare', 'Embark' and 'cabin' for now I have no assumption. So I wanna see their relationships to build some assumptions.</p>\n",
    "<br/>"
   ]
  },
  {
   "cell_type": "code",
   "execution_count": null,
   "metadata": {},
   "outputs": [],
   "source": []
  },
  {
   "cell_type": "code",
   "execution_count": null,
   "metadata": {},
   "outputs": [],
   "source": []
  },
  {
   "cell_type": "code",
   "execution_count": null,
   "metadata": {},
   "outputs": [],
   "source": []
  },
  {
   "cell_type": "code",
   "execution_count": null,
   "metadata": {},
   "outputs": [],
   "source": []
  },
  {
   "cell_type": "code",
   "execution_count": null,
   "metadata": {},
   "outputs": [],
   "source": []
  },
  {
   "cell_type": "code",
   "execution_count": null,
   "metadata": {},
   "outputs": [],
   "source": []
  },
  {
   "cell_type": "code",
   "execution_count": null,
   "metadata": {},
   "outputs": [],
   "source": []
  },
  {
   "cell_type": "code",
   "execution_count": null,
   "metadata": {},
   "outputs": [],
   "source": []
  }
 ],
 "metadata": {
  "kernelspec": {
   "display_name": "Python 3",
   "language": "python",
   "name": "python3"
  },
  "language_info": {
   "codemirror_mode": {
    "name": "ipython",
    "version": 3
   },
   "file_extension": ".py",
   "mimetype": "text/x-python",
   "name": "python",
   "nbconvert_exporter": "python",
   "pygments_lexer": "ipython3",
   "version": "3.8.3"
  }
 },
 "nbformat": 4,
 "nbformat_minor": 2
}
